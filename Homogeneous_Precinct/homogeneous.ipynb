{
    "metadata": {
        "kernelspec": {
            "name": "python3",
            "display_name": "Python 3",
            "language": "python"
        },
        "language_info": {
            "name": "python",
            "version": "3.8.5",
            "mimetype": "text/x-python",
            "codemirror_mode": {
                "name": "ipython",
                "version": 3
            },
            "pygments_lexer": "ipython3",
            "nbconvert_exporter": "python",
            "file_extension": ".py"
        }
    },
    "nbformat_minor": 2,
    "nbformat": 4,
    "cells": [
        {
            "cell_type": "code",
            "source": [
                "import pandas as pd\r\n",
                "import os \r\n",
                "os.chdir(r'./')"
            ],
            "metadata": {
                "azdata_cell_guid": "1052314c-f1c7-4ed3-a9b7-6654bef3637e",
                "tags": []
            },
            "outputs": [],
            "execution_count": 36
        },
        {
            "cell_type": "code",
            "source": [
                "df_Votes = pd.read_csv('BAF-al_2020.csv',dtype={'GEOID20_left':str,'COUNTYFP20':str})\r\n",
                "df_CD = pd.read_csv('AL_94_CD116_7.csv', dtype={'GEOID':str,'VTD':str,'CD116':str,'COUNTY':str})"
            ],
            "metadata": {
                "azdata_cell_guid": "6774e616-ec0d-4af4-bbc1-1ed38b2101be"
            },
            "outputs": [],
            "execution_count": 37
        },
        {
            "cell_type": "code",
            "source": [
                "WhiPop = 'P0030003'\r\n",
                "TarPop = 'P0030004'\r\n",
                "TotPop = 'P0030001'\r\n",
                "df_Votes.head()"
            ],
            "metadata": {
                "azdata_cell_guid": "72273cb9-a589-4bde-be3d-1ebd244190bd"
            },
            "outputs": [
                {
                    "data": {
                        "text/plain": "      GEOID20_left  STATEFP20 COUNTYFP20 VTDST20 GEOID20_right  \\\n0  010010201001000          1        001  000016   01001000016   \n1  010010201001001          1        001  000016   01001000016   \n2  010010201001002          1        001  000016   01001000016   \n3  010010201001003          1        001  000016   01001000016   \n4  010010201001004          1        001  000016   01001000016   \n\n            NAME20  G20PRERTRU  G20PREDBID  G20PRELJOR  G20PREOWRI  ...  \\\n0  Doster Comm Ctr        3746        1659          70          23  ...   \n1  Doster Comm Ctr        3746        1659          70          23  ...   \n2  Doster Comm Ctr        3746        1659          70          23  ...   \n3  Doster Comm Ctr        3746        1659          70          23  ...   \n4  Doster Comm Ctr        3746        1659          70          23  ...   \n\n   G20SACOWRI  G20SACRFRI  G20SACOWR2  G20SCCRWIN  G20SCCOWRI  G20SCCRKEL  \\\n0          88        3943          81        3957          72        3945   \n1          88        3943          81        3957          72        3945   \n2          88        3943          81        3957          72        3945   \n3          88        3943          81        3957          72        3945   \n4          88        3943          81        3957          72        3945   \n\n   G20SCCOWR2  G20PSCRCAV  G20PSCDCAS  G20PSCOWRI  \n0          74        3662        1693           9  \n1          74        3662        1693           9  \n2          74        3662        1693           9  \n3          74        3662        1693           9  \n4          74        3662        1693           9  \n\n[5 rows x 28 columns]",
                        "text/html": "<div>\n<style scoped>\n    .dataframe tbody tr th:only-of-type {\n        vertical-align: middle;\n    }\n\n    .dataframe tbody tr th {\n        vertical-align: top;\n    }\n\n    .dataframe thead th {\n        text-align: right;\n    }\n</style>\n<table border=\"1\" class=\"dataframe\">\n  <thead>\n    <tr style=\"text-align: right;\">\n      <th></th>\n      <th>GEOID20_left</th>\n      <th>STATEFP20</th>\n      <th>COUNTYFP20</th>\n      <th>VTDST20</th>\n      <th>GEOID20_right</th>\n      <th>NAME20</th>\n      <th>G20PRERTRU</th>\n      <th>G20PREDBID</th>\n      <th>G20PRELJOR</th>\n      <th>G20PREOWRI</th>\n      <th>...</th>\n      <th>G20SACOWRI</th>\n      <th>G20SACRFRI</th>\n      <th>G20SACOWR2</th>\n      <th>G20SCCRWIN</th>\n      <th>G20SCCOWRI</th>\n      <th>G20SCCRKEL</th>\n      <th>G20SCCOWR2</th>\n      <th>G20PSCRCAV</th>\n      <th>G20PSCDCAS</th>\n      <th>G20PSCOWRI</th>\n    </tr>\n  </thead>\n  <tbody>\n    <tr>\n      <th>0</th>\n      <td>010010201001000</td>\n      <td>1</td>\n      <td>001</td>\n      <td>000016</td>\n      <td>01001000016</td>\n      <td>Doster Comm Ctr</td>\n      <td>3746</td>\n      <td>1659</td>\n      <td>70</td>\n      <td>23</td>\n      <td>...</td>\n      <td>88</td>\n      <td>3943</td>\n      <td>81</td>\n      <td>3957</td>\n      <td>72</td>\n      <td>3945</td>\n      <td>74</td>\n      <td>3662</td>\n      <td>1693</td>\n      <td>9</td>\n    </tr>\n    <tr>\n      <th>1</th>\n      <td>010010201001001</td>\n      <td>1</td>\n      <td>001</td>\n      <td>000016</td>\n      <td>01001000016</td>\n      <td>Doster Comm Ctr</td>\n      <td>3746</td>\n      <td>1659</td>\n      <td>70</td>\n      <td>23</td>\n      <td>...</td>\n      <td>88</td>\n      <td>3943</td>\n      <td>81</td>\n      <td>3957</td>\n      <td>72</td>\n      <td>3945</td>\n      <td>74</td>\n      <td>3662</td>\n      <td>1693</td>\n      <td>9</td>\n    </tr>\n    <tr>\n      <th>2</th>\n      <td>010010201001002</td>\n      <td>1</td>\n      <td>001</td>\n      <td>000016</td>\n      <td>01001000016</td>\n      <td>Doster Comm Ctr</td>\n      <td>3746</td>\n      <td>1659</td>\n      <td>70</td>\n      <td>23</td>\n      <td>...</td>\n      <td>88</td>\n      <td>3943</td>\n      <td>81</td>\n      <td>3957</td>\n      <td>72</td>\n      <td>3945</td>\n      <td>74</td>\n      <td>3662</td>\n      <td>1693</td>\n      <td>9</td>\n    </tr>\n    <tr>\n      <th>3</th>\n      <td>010010201001003</td>\n      <td>1</td>\n      <td>001</td>\n      <td>000016</td>\n      <td>01001000016</td>\n      <td>Doster Comm Ctr</td>\n      <td>3746</td>\n      <td>1659</td>\n      <td>70</td>\n      <td>23</td>\n      <td>...</td>\n      <td>88</td>\n      <td>3943</td>\n      <td>81</td>\n      <td>3957</td>\n      <td>72</td>\n      <td>3945</td>\n      <td>74</td>\n      <td>3662</td>\n      <td>1693</td>\n      <td>9</td>\n    </tr>\n    <tr>\n      <th>4</th>\n      <td>010010201001004</td>\n      <td>1</td>\n      <td>001</td>\n      <td>000016</td>\n      <td>01001000016</td>\n      <td>Doster Comm Ctr</td>\n      <td>3746</td>\n      <td>1659</td>\n      <td>70</td>\n      <td>23</td>\n      <td>...</td>\n      <td>88</td>\n      <td>3943</td>\n      <td>81</td>\n      <td>3957</td>\n      <td>72</td>\n      <td>3945</td>\n      <td>74</td>\n      <td>3662</td>\n      <td>1693</td>\n      <td>9</td>\n    </tr>\n  </tbody>\n</table>\n<p>5 rows × 28 columns</p>\n</div>"
                    },
                    "metadata": {},
                    "execution_count": 38,
                    "output_type": "execute_result"
                }
            ],
            "execution_count": 38
        },
        {
            "cell_type": "code",
            "source": [
                "df_CD.head()"
            ],
            "metadata": {
                "azdata_cell_guid": "d973d7de-1d6c-4247-b0b3-85497d3f6909"
            },
            "outputs": [
                {
                    "data": {
                        "text/plain": "          GEOCODE COUNTY     VTD CD116  SLDU18  SLDL18  POP100  HU100  \\\n0  10239567001000    023  000006    07      24      65      30     22   \n1  10239567001001    023  000006    07      24      65      53     35   \n2  10239567001002    023  000006    07      24      65      32     23   \n3  10239567001003    023  000006    07      24      65       0      0   \n4  10239567001004    023  000006    07      24      65       5      1   \n\n    INTPTLAT   INTPTLON  ...  P0050001  P0050002  P0050003  P0050004  \\\n0  32.229782 -88.208211  ...         0         0         0         0   \n1  32.235793 -88.250924  ...         0         0         0         0   \n2  32.238409 -88.266784  ...         0         0         0         0   \n3  32.235749 -88.276752  ...         0         0         0         0   \n4  32.231833 -88.282821  ...         0         0         0         0   \n\n   P0050005  P0050006  P0050007  P0050008  P0050009  P0050010  \n0         0         0         0         0         0         0  \n1         0         0         0         0         0         0  \n2         0         0         0         0         0         0  \n3         0         0         0         0         0         0  \n4         0         0         0         0         0         0  \n\n[5 rows x 311 columns]",
                        "text/html": "<div>\n<style scoped>\n    .dataframe tbody tr th:only-of-type {\n        vertical-align: middle;\n    }\n\n    .dataframe tbody tr th {\n        vertical-align: top;\n    }\n\n    .dataframe thead th {\n        text-align: right;\n    }\n</style>\n<table border=\"1\" class=\"dataframe\">\n  <thead>\n    <tr style=\"text-align: right;\">\n      <th></th>\n      <th>GEOCODE</th>\n      <th>COUNTY</th>\n      <th>VTD</th>\n      <th>CD116</th>\n      <th>SLDU18</th>\n      <th>SLDL18</th>\n      <th>POP100</th>\n      <th>HU100</th>\n      <th>INTPTLAT</th>\n      <th>INTPTLON</th>\n      <th>...</th>\n      <th>P0050001</th>\n      <th>P0050002</th>\n      <th>P0050003</th>\n      <th>P0050004</th>\n      <th>P0050005</th>\n      <th>P0050006</th>\n      <th>P0050007</th>\n      <th>P0050008</th>\n      <th>P0050009</th>\n      <th>P0050010</th>\n    </tr>\n  </thead>\n  <tbody>\n    <tr>\n      <th>0</th>\n      <td>10239567001000</td>\n      <td>023</td>\n      <td>000006</td>\n      <td>07</td>\n      <td>24</td>\n      <td>65</td>\n      <td>30</td>\n      <td>22</td>\n      <td>32.229782</td>\n      <td>-88.208211</td>\n      <td>...</td>\n      <td>0</td>\n      <td>0</td>\n      <td>0</td>\n      <td>0</td>\n      <td>0</td>\n      <td>0</td>\n      <td>0</td>\n      <td>0</td>\n      <td>0</td>\n      <td>0</td>\n    </tr>\n    <tr>\n      <th>1</th>\n      <td>10239567001001</td>\n      <td>023</td>\n      <td>000006</td>\n      <td>07</td>\n      <td>24</td>\n      <td>65</td>\n      <td>53</td>\n      <td>35</td>\n      <td>32.235793</td>\n      <td>-88.250924</td>\n      <td>...</td>\n      <td>0</td>\n      <td>0</td>\n      <td>0</td>\n      <td>0</td>\n      <td>0</td>\n      <td>0</td>\n      <td>0</td>\n      <td>0</td>\n      <td>0</td>\n      <td>0</td>\n    </tr>\n    <tr>\n      <th>2</th>\n      <td>10239567001002</td>\n      <td>023</td>\n      <td>000006</td>\n      <td>07</td>\n      <td>24</td>\n      <td>65</td>\n      <td>32</td>\n      <td>23</td>\n      <td>32.238409</td>\n      <td>-88.266784</td>\n      <td>...</td>\n      <td>0</td>\n      <td>0</td>\n      <td>0</td>\n      <td>0</td>\n      <td>0</td>\n      <td>0</td>\n      <td>0</td>\n      <td>0</td>\n      <td>0</td>\n      <td>0</td>\n    </tr>\n    <tr>\n      <th>3</th>\n      <td>10239567001003</td>\n      <td>023</td>\n      <td>000006</td>\n      <td>07</td>\n      <td>24</td>\n      <td>65</td>\n      <td>0</td>\n      <td>0</td>\n      <td>32.235749</td>\n      <td>-88.276752</td>\n      <td>...</td>\n      <td>0</td>\n      <td>0</td>\n      <td>0</td>\n      <td>0</td>\n      <td>0</td>\n      <td>0</td>\n      <td>0</td>\n      <td>0</td>\n      <td>0</td>\n      <td>0</td>\n    </tr>\n    <tr>\n      <th>4</th>\n      <td>10239567001004</td>\n      <td>023</td>\n      <td>000006</td>\n      <td>07</td>\n      <td>24</td>\n      <td>65</td>\n      <td>5</td>\n      <td>1</td>\n      <td>32.231833</td>\n      <td>-88.282821</td>\n      <td>...</td>\n      <td>0</td>\n      <td>0</td>\n      <td>0</td>\n      <td>0</td>\n      <td>0</td>\n      <td>0</td>\n      <td>0</td>\n      <td>0</td>\n      <td>0</td>\n      <td>0</td>\n    </tr>\n  </tbody>\n</table>\n<p>5 rows × 311 columns</p>\n</div>"
                    },
                    "metadata": {},
                    "execution_count": 39,
                    "output_type": "execute_result"
                }
            ],
            "execution_count": 39
        },
        {
            "cell_type": "code",
            "source": [
                "df_Votes = df_Votes[['VTDST20','COUNTYFP20','G20PRERTRU','G20PREDBID']]\r\n",
                "df_Votes = df_Votes.drop_duplicates().reset_index(drop=True)\r\n",
                "df_Votes = df_Votes.rename(columns={'VTDST20':'VTD','COUNTYFP20':'COUNTY'})\r\n",
                "# P003 is Cenuses 18+ count for P001\r\n",
                "df_CD = df_CD[['VTD','COUNTY',WhiPop,TarPop,TotPop]]\r\n",
                "df_CD = df_CD.groupby(['VTD','COUNTY']).sum()\r\n",
                "df = df_CD.merge(df_Votes, how='inner',on=['VTD','COUNTY'])\r\n",
                "df = df.drop_duplicates()\r\n",
                "df = df.drop(columns=['COUNTY'])\r\n",
                "df_sum = df.groupby(['VTD']).sum().reset_index()\r\n",
                "df = df[['VTD']].merge(df_sum, on='VTD')\r\n",
                "df = df.drop_duplicates()\r\n",
                "assert len(df.index) != 0\r\n",
                "assert len(df_Votes.index) != 0"
            ],
            "metadata": {
                "azdata_cell_guid": "e4d3c170-e47c-4777-a8e3-4619653f1fdf"
            },
            "outputs": [],
            "execution_count": 40
        },
        {
            "cell_type": "code",
            "source": [
                "df['Target_Percentage'] = df[TarPop]/df[TotPop]\r\n",
                "df['White_Percentage'] = df[WhiPop]/df[TotPop]\r\n",
                "df['Group'] = None\r\n",
                "df = df.reset_index(drop=True)\r\n",
                "\r\n",
                "for i ,row in df.iterrows():\r\n",
                "    if row['Target_Percentage'] >= .9:\r\n",
                "        df['Group'].iloc[i] = 'T0%'\r\n",
                "    if row['Target_Percentage'] < .9:\r\n",
                "        df['Group'].iloc[i] = 'T60%'\r\n",
                "    if row['Target_Percentage'] < .6:\r\n",
                "        df['Group'].iloc[i] = 'N50%'\r\n",
                "    if row['Target_Percentage'] <= .4:\r\n",
                "        df['Group'].iloc[i] = 'W60%'\r\n",
                "    if row['Target_Percentage'] <= .1:\r\n",
                "        df['Group'].iloc[i] = 'W90%'"
            ],
            "metadata": {
                "azdata_cell_guid": "d8c84a2d-72ad-4515-96a2-3d3837cfa573"
            },
            "outputs": [
                {
                    "name": "stderr",
                    "text": "c:\\Miniconda\\lib\\site-packages\\pandas\\core\\indexing.py:1637: SettingWithCopyWarning: \nA value is trying to be set on a copy of a slice from a DataFrame\n\nSee the caveats in the documentation: https://pandas.pydata.org/pandas-docs/stable/user_guide/indexing.html#returning-a-view-versus-a-copy\n  self._setitem_single_block(indexer, value, name)\n",
                    "output_type": "stream"
                }
            ],
            "execution_count": 41
        },
        {
            "cell_type": "code",
            "source": [
                "df.head()"
            ],
            "metadata": {
                "azdata_cell_guid": "40078085-31ce-409d-b033-1097b08f04ac"
            },
            "outputs": [
                {
                    "data": {
                        "text/plain": "      VTD  P0030003  P0030004  P0030001  G20PRERTRU  G20PREDBID  \\\n0  000001       573      1530      2142         651        1616   \n1  000002       608      1703      2365         345         834   \n2  000003      1165      2860      4121         962        1297   \n3  000004      2047      4224      6449         949        2159   \n4  000005       175       422       615         161         471   \n\n   Target_Percentage  White_Percentage Group  \n0           0.714286          0.267507  T60%  \n1           0.720085          0.257082  T60%  \n2           0.694006          0.282698  T60%  \n3           0.654985          0.317414  T60%  \n4           0.686179          0.284553  T60%  ",
                        "text/html": "<div>\n<style scoped>\n    .dataframe tbody tr th:only-of-type {\n        vertical-align: middle;\n    }\n\n    .dataframe tbody tr th {\n        vertical-align: top;\n    }\n\n    .dataframe thead th {\n        text-align: right;\n    }\n</style>\n<table border=\"1\" class=\"dataframe\">\n  <thead>\n    <tr style=\"text-align: right;\">\n      <th></th>\n      <th>VTD</th>\n      <th>P0030003</th>\n      <th>P0030004</th>\n      <th>P0030001</th>\n      <th>G20PRERTRU</th>\n      <th>G20PREDBID</th>\n      <th>Target_Percentage</th>\n      <th>White_Percentage</th>\n      <th>Group</th>\n    </tr>\n  </thead>\n  <tbody>\n    <tr>\n      <th>0</th>\n      <td>000001</td>\n      <td>573</td>\n      <td>1530</td>\n      <td>2142</td>\n      <td>651</td>\n      <td>1616</td>\n      <td>0.714286</td>\n      <td>0.267507</td>\n      <td>T60%</td>\n    </tr>\n    <tr>\n      <th>1</th>\n      <td>000002</td>\n      <td>608</td>\n      <td>1703</td>\n      <td>2365</td>\n      <td>345</td>\n      <td>834</td>\n      <td>0.720085</td>\n      <td>0.257082</td>\n      <td>T60%</td>\n    </tr>\n    <tr>\n      <th>2</th>\n      <td>000003</td>\n      <td>1165</td>\n      <td>2860</td>\n      <td>4121</td>\n      <td>962</td>\n      <td>1297</td>\n      <td>0.694006</td>\n      <td>0.282698</td>\n      <td>T60%</td>\n    </tr>\n    <tr>\n      <th>3</th>\n      <td>000004</td>\n      <td>2047</td>\n      <td>4224</td>\n      <td>6449</td>\n      <td>949</td>\n      <td>2159</td>\n      <td>0.654985</td>\n      <td>0.317414</td>\n      <td>T60%</td>\n    </tr>\n    <tr>\n      <th>4</th>\n      <td>000005</td>\n      <td>175</td>\n      <td>422</td>\n      <td>615</td>\n      <td>161</td>\n      <td>471</td>\n      <td>0.686179</td>\n      <td>0.284553</td>\n      <td>T60%</td>\n    </tr>\n  </tbody>\n</table>\n</div>"
                    },
                    "metadata": {},
                    "execution_count": 42,
                    "output_type": "execute_result"
                }
            ],
            "execution_count": 42
        },
        {
            "cell_type": "code",
            "source": [
                "Tar_df = df[['VTD','Target_Percentage','G20PREDBID','G20PRERTRU',TotPop, TarPop]][(df['Group'] == 'T60%') | (df['Group'] == 'T90%')]\r\n",
                "Whi_df = df[['VTD','White_Percentage','G20PREDBID','G20PRERTRU',TotPop, WhiPop]][(df['Group'] == 'W60%') | (df['Group'] == 'W90%')]\r\n",
                "Tar_df['G20PRETOTAL'] = Tar_df['G20PREDBID'] + Tar_df['G20PRERTRU']\r\n",
                "Whi_df['G20PRETOTAL'] = Whi_df['G20PREDBID'] + Whi_df['G20PRERTRU']"
            ],
            "metadata": {
                "azdata_cell_guid": "73089a55-6efa-415c-b0aa-00d303aa3a9e",
                "tags": []
            },
            "outputs": [],
            "execution_count": 43
        },
        {
            "cell_type": "code",
            "source": [
                "Tar_df['G20PREDBID_Percentage'] = Tar_df['G20PREDBID'] /Tar_df['G20PRETOTAL']\r\n",
                "Tar_df['G20PRERTRU_Percentage'] = Tar_df['G20PRERTRU'] /Tar_df['G20PRETOTAL']\r\n",
                "Whi_df['G20PREDBID_Percentage'] = Tar_df['G20PREDBID'] /Tar_df['G20PRETOTAL']\r\n",
                "Whi_df['G20PRERTRU_Percentage'] = Tar_df['G20PRERTRU'] /Tar_df['G20PRETOTAL']\r\n",
                "Tar_df['TurnOut_Percentage'] = Tar_df[TarPop]/Tar_df['G20PRETOTAL']\r\n",
                "Whi_df['TurnOut_Percentage'] = Whi_df[WhiPop]/Whi_df['G20PRETOTAL']"
            ],
            "metadata": {
                "azdata_cell_guid": "6a75957b-03b9-499b-b0e5-eb89be40c47d"
            },
            "outputs": [],
            "execution_count": 45
        },
        {
            "cell_type": "code",
            "source": [
                "Tar_df.head()"
            ],
            "metadata": {
                "azdata_cell_guid": "cf4f85e0-c38a-4690-9c40-0d9c0ac20f4e"
            },
            "outputs": [
                {
                    "data": {
                        "text/plain": "      VTD  Target_Percentage  G20PREDBID  G20PRERTRU  P0030001  P0030004  \\\n0  000001           0.714286        1616         651      2142      1530   \n1  000002           0.720085         834         345      2365      1703   \n2  000003           0.694006        1297         962      4121      2860   \n3  000004           0.654985        2159         949      6449      4224   \n4  000005           0.686179         471         161       615       422   \n\n   G20PRETOTAL  G20PREDBID_Percentage  G20PRERTRU_Percentage  \\\n0         2267               0.712836               0.287164   \n1         1179               0.707379               0.292621   \n2         2259               0.574148               0.425852   \n3         3108               0.694659               0.305341   \n4          632               0.745253               0.254747   \n\n   TurnOut_Percentage  \n0            0.674901  \n1            1.444444  \n2            1.266047  \n3            1.359073  \n4            0.667722  ",
                        "text/html": "<div>\n<style scoped>\n    .dataframe tbody tr th:only-of-type {\n        vertical-align: middle;\n    }\n\n    .dataframe tbody tr th {\n        vertical-align: top;\n    }\n\n    .dataframe thead th {\n        text-align: right;\n    }\n</style>\n<table border=\"1\" class=\"dataframe\">\n  <thead>\n    <tr style=\"text-align: right;\">\n      <th></th>\n      <th>VTD</th>\n      <th>Target_Percentage</th>\n      <th>G20PREDBID</th>\n      <th>G20PRERTRU</th>\n      <th>P0030001</th>\n      <th>P0030004</th>\n      <th>G20PRETOTAL</th>\n      <th>G20PREDBID_Percentage</th>\n      <th>G20PRERTRU_Percentage</th>\n      <th>TurnOut_Percentage</th>\n    </tr>\n  </thead>\n  <tbody>\n    <tr>\n      <th>0</th>\n      <td>000001</td>\n      <td>0.714286</td>\n      <td>1616</td>\n      <td>651</td>\n      <td>2142</td>\n      <td>1530</td>\n      <td>2267</td>\n      <td>0.712836</td>\n      <td>0.287164</td>\n      <td>0.674901</td>\n    </tr>\n    <tr>\n      <th>1</th>\n      <td>000002</td>\n      <td>0.720085</td>\n      <td>834</td>\n      <td>345</td>\n      <td>2365</td>\n      <td>1703</td>\n      <td>1179</td>\n      <td>0.707379</td>\n      <td>0.292621</td>\n      <td>1.444444</td>\n    </tr>\n    <tr>\n      <th>2</th>\n      <td>000003</td>\n      <td>0.694006</td>\n      <td>1297</td>\n      <td>962</td>\n      <td>4121</td>\n      <td>2860</td>\n      <td>2259</td>\n      <td>0.574148</td>\n      <td>0.425852</td>\n      <td>1.266047</td>\n    </tr>\n    <tr>\n      <th>3</th>\n      <td>000004</td>\n      <td>0.654985</td>\n      <td>2159</td>\n      <td>949</td>\n      <td>6449</td>\n      <td>4224</td>\n      <td>3108</td>\n      <td>0.694659</td>\n      <td>0.305341</td>\n      <td>1.359073</td>\n    </tr>\n    <tr>\n      <th>4</th>\n      <td>000005</td>\n      <td>0.686179</td>\n      <td>471</td>\n      <td>161</td>\n      <td>615</td>\n      <td>422</td>\n      <td>632</td>\n      <td>0.745253</td>\n      <td>0.254747</td>\n      <td>0.667722</td>\n    </tr>\n  </tbody>\n</table>\n</div>"
                    },
                    "metadata": {},
                    "execution_count": 46,
                    "output_type": "execute_result"
                }
            ],
            "execution_count": 46
        }
    ]
}