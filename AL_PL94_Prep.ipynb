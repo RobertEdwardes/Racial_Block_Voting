{
    "metadata": {
        "kernelspec": {
            "name": "python3",
            "display_name": "Python 3",
            "language": "python"
        },
        "language_info": {
            "name": "python",
            "version": "3.8.5",
            "mimetype": "text/x-python",
            "codemirror_mode": {
                "name": "ipython",
                "version": 3
            },
            "pygments_lexer": "ipython3",
            "nbconvert_exporter": "python",
            "file_extension": ".py"
        }
    },
    "nbformat_minor": 2,
    "nbformat": 4,
    "cells": [
        {
            "cell_type": "markdown",
            "source": [
                "### Code to parse Whole PL-94 Alabama Dataset into CD116 District 7 and 2020 cycle Whole County Proposle District 6 and 7"
            ],
            "metadata": {
                "azdata_cell_guid": "432a1cf2-19e6-4aea-bf9f-6aaeca23b5f0"
            },
            "attachments": {}
        },
        {
            "cell_type": "code",
            "source": [
                "import pandas as pd"
            ],
            "metadata": {
                "azdata_cell_guid": "e2973f81-0c6d-4698-86b8-4fbd86e7bf3c",
                "tags": [
                    "hide_input"
                ]
            },
            "outputs": [],
            "execution_count": 1
        },
        {
            "cell_type": "markdown",
            "source": [
                "##### Whole County District FIPS lists  \n",
                "\n",
                "District 6\n",
                "\n",
                "| FIPS         | County Names     | \n",
                "|--------------|-----------|\n",
                "| 007 | Bibb County |\n",
                "| 065 | Hale County | \n",
                "| 073 | Jefferson County |\n",
                "| 105 | Perry County |\n",
                "\n",
                "District 7\n",
                "\n",
                "| FIPS         | County Names     |\n",
                "|--------------|-----------|\n",
                "| 011 | Bullock County |\n",
                "| 013 | Butler County | \n",
                "| 023 | Choctaw County |\n",
                "| 025 | Clarke County |\n",
                "| 035 | Conecuh County |\n",
                "| 041 | Crenshaw County |\n",
                "| 047 | Crenshaw County |\n",
                "| 063 | Greene County |\n",
                "| 085 | Lowndes County |\n",
                "| 087 | Macon County | \n",
                "| 091 | Marengo County |\n",
                "| 099 | Monroe County |\n",
                "| 101 | Montgomery County |\n",
                "| 107 | Pickens County |\n",
                "| 119 | Sumter County |\n",
                "| 125 | Sumter County |\n",
                "| 129 | Sumter County |\n",
                "| 131 | Wilcox County |\n",
                "\n",
                "\n",
                ""
            ],
            "metadata": {
                "azdata_cell_guid": "282701fd-4f4a-4af8-90d3-07ce8034f35b"
            },
            "attachments": {}
        },
        {
            "cell_type": "code",
            "source": [
                "County_Fips_7 = ['011','013','023','025','035','041','047','063','087','091','099','101','107','119','125','129','131','085']\r\n",
                "County_Fips_6 = ['007','065','073','105']\r\n",
                "CD116_7 = ['07']\r\n",
                "df_init = pd.read_csv('AL_PL94.csv', dtype={'GEOID':str,'VTD':str,'CD116':str,'COUNTY':str})\r\n",
                "AL_94_CD116_7 = df_init[df_init['CD116'].isin(CD116_7)]\r\n",
                "AL_94_WC_6 = df_init[df_init['COUNTY'].isin(County_Fips_6)]\r\n",
                "AL_94_WC_7 = df_init[df_init['COUNTY'].isin(County_Fips_7)]\r\n",
                "AL_94_CD116_7.to_csv('AL_94_CD116_7.csv',index=False)\r\n",
                "AL_94_WC_6.to_csv('AL_94_WC_6.csv',index=False)\r\n",
                "AL_94_WC_7.to_csv('AL_94_WC_7.csv',index=False)"
            ],
            "metadata": {
                "azdata_cell_guid": "60f5d250-8069-416b-8cf2-bf3062e474dc"
            },
            "outputs": [],
            "execution_count": 2
        }
    ]
}