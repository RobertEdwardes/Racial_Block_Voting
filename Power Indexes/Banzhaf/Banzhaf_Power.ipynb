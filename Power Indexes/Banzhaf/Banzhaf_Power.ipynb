{
    "metadata": {
        "kernelspec": {
            "name": "python3",
            "display_name": "Python 3",
            "language": "python"
        },
        "language_info": {
            "name": "python",
            "version": "3.8.5",
            "mimetype": "text/x-python",
            "codemirror_mode": {
                "name": "ipython",
                "version": 3
            },
            "pygments_lexer": "ipython3",
            "nbconvert_exporter": "python",
            "file_extension": ".py"
        }
    },
    "nbformat_minor": 2,
    "nbformat": 4,
    "cells": [
        {
            "cell_type": "code",
            "source": [
                "import pandas as pd\n",
                "import os \n",
                "os.chdir(r'./')\n",
                "import itertools\n",
                "df_Votes = pd.read_csv('BAF-al_2020.csv',dtype={'GEOID20_left':str,'COUNTYFP20':str})\n",
                "\n",
                " ''' Uncomment read_csv file to generate results \n",
                "     comapring current Alabama VRA district to the 2 \n",
                "     proposed in Whole County Map '''\n",
                "\n",
                "df_CD = pd.read_csv('AL_94_CD116_7.csv', dtype={'GEOID':str,'VTD':str,'CD116':str,'COUNTY':str})\n",
                "#df_CD = pd.read_csv('AL_94_WC_6.csv', dtype={'GEOID':str,'VTD':str,'CD116':str,'COUNTY':str})\n",
                "#df_CD = pd.read_csv('AL_94_WC_7.csv', dtype={'GEOID':str,'VTD':str,'CD116':str,'COUNTY':str})"
            ],
            "metadata": {
                "azdata_cell_guid": "237f250e-5371-4381-9b68-056354ec9ff4",
                "tags": []
            },
            "outputs": [],
            "execution_count": 15
        },
        {
            "cell_type": "code",
            "source": [
                "\n",
                "\n",
                "df_Votes = df_Votes[['VTDST20','COUNTYFP20','G20PRERTRU','G20PREDBID']]\n",
                "df_Votes = df_Votes.drop_duplicates().reset_index(drop=True)\n",
                "df_Votes = df_Votes.rename(columns={'VTDST20':'VTD','COUNTYFP20':'COUNTY'})\n",
                "\n",
                "df_CD = df_CD[['VTD','COUNTY','P0010001','P0010004']]\n",
                "df_CD = df_CD.groupby(['VTD','COUNTY']).sum()\n",
                "df = df_CD.merge(df_Votes, how='inner',on=['VTD','COUNTY'])\n",
                "df = df.drop_duplicates()\n",
                "df = df.drop(columns=['COUNTY'])\n",
                "df_sum = df.groupby(['VTD']).sum().reset_index()\n",
                "df = df[['VTD']].merge(df_sum, on='VTD')\n",
                "df = df.drop_duplicates()\n",
                "assert len(df.index) != 0\n",
                "assert len(df_Votes.index) != 0"
            ],
            "metadata": {
                "azdata_cell_guid": "653861f4-f82d-4aa9-a01d-7ab63a599421"
            },
            "outputs": [
                {
                    "output_type": "execute_result",
                    "execution_count": 16,
                    "data": {
                        "text/plain": "       VTD  P0010001  P0010004  G20PRERTRU  G20PREDBID\n0   000001      2385       781         627         417\n4   000002      2063       576         710         333\n8   000003     12122      7972        2062        3489\n15  000004      2886       896         967         371\n20  000005      3522       421        1512         399",
                        "text/html": "<div>\n<style scoped>\n    .dataframe tbody tr th:only-of-type {\n        vertical-align: middle;\n    }\n\n    .dataframe tbody tr th {\n        vertical-align: top;\n    }\n\n    .dataframe thead th {\n        text-align: right;\n    }\n</style>\n<table border=\"1\" class=\"dataframe\">\n  <thead>\n    <tr style=\"text-align: right;\">\n      <th></th>\n      <th>VTD</th>\n      <th>P0010001</th>\n      <th>P0010004</th>\n      <th>G20PRERTRU</th>\n      <th>G20PREDBID</th>\n    </tr>\n  </thead>\n  <tbody>\n    <tr>\n      <th>0</th>\n      <td>000001</td>\n      <td>2385</td>\n      <td>781</td>\n      <td>627</td>\n      <td>417</td>\n    </tr>\n    <tr>\n      <th>4</th>\n      <td>000002</td>\n      <td>2063</td>\n      <td>576</td>\n      <td>710</td>\n      <td>333</td>\n    </tr>\n    <tr>\n      <th>8</th>\n      <td>000003</td>\n      <td>12122</td>\n      <td>7972</td>\n      <td>2062</td>\n      <td>3489</td>\n    </tr>\n    <tr>\n      <th>15</th>\n      <td>000004</td>\n      <td>2886</td>\n      <td>896</td>\n      <td>967</td>\n      <td>371</td>\n    </tr>\n    <tr>\n      <th>20</th>\n      <td>000005</td>\n      <td>3522</td>\n      <td>421</td>\n      <td>1512</td>\n      <td>399</td>\n    </tr>\n  </tbody>\n</table>\n</div>"
                    },
                    "metadata": {}
                }
            ],
            "execution_count": 16
        },
        {
            "cell_type": "code",
            "source": [
                "df['Black_Percentage'] = df['P0010004']/df['P0010001']\n",
                "df['Group'] = None\n",
                "df = df.reset_index(drop=True)\n",
                "\n",
                "for i ,row in df.iterrows():\n",
                "    if row['Black_Percentage'] >= .9:\n",
                "        df['Group'].iloc[i] = 'B90%'\n",
                "    if row['Black_Percentage'] < .9:\n",
                "        df['Group'].iloc[i] = 'B60%'\n",
                "    if row['Black_Percentage'] < .6:\n",
                "        df['Group'].iloc[i] = 'N50%'\n",
                "    if row['Black_Percentage'] <= .4:\n",
                "        df['Group'].iloc[i] = 'W60%'\n",
                "    if row['Black_Percentage'] <= .1:\n",
                "        df['Group'].iloc[i] = 'W90%'\n",
                "\n",
                "quoat = 0\n",
                "quoat = df[['G20PRERTRU','G20PREDBID']].sum()\n",
                "quoat = (quoat['G20PREDBID'] + quoat['G20PRERTRU'])/2\n",
                "voteGroups = df[['Group','G20PREDBID']].groupby('Group').sum().reset_index()\n",
                "voteGroups = voteGroups.values.tolist()"
            ],
            "metadata": {
                "azdata_cell_guid": "53d34a08-dd4f-4490-80f8-f5d9bbe54ad4",
                "tags": []
            },
            "outputs": [],
            "execution_count": 23
        },
        {
            "cell_type": "code",
            "source": [
                "idx = 0\n",
                "output = {}\n",
                "for i in range(1,len(voteGroups)+1):\n",
                "    for j in itertools.combinations(voteGroups,i):\n",
                "        c = 0\n",
                "        for k in j:\n",
                "            c += k[1]\n",
                "            if c > quoat:\n",
                "                idx += 1\n",
                "                output[idx] = {}\n",
                "                output[idx]['Coliltion'] = j\n",
                "                output[idx]['Total'] = c\n",
                "                break\n",
                "assert bool(output) == True\n",
                "crit_count = {'B90%':0,'B60%':0,'W90%':0,'W60%':0,'N50%':0}\n",
                "for key, value in output.items():\n",
                "    wC = value['Total']\n",
                "    for i in value['Coliltion']:\n",
                "        if wC - i[1] < quoat:\n",
                "            crit_count[i[0]] += 1\n",
                "\n",
                "df_share = pd.DataFrame(list(crit_count.items()),columns = ['Cat','B_Index'])\n",
                "B_IdxSum = df_share['B_Index'].sum()\n",
                "df_share['B_PowerShare'] = (df_share['B_Index']/B_IdxSum) * 100\n",
                "df_share['B_Critical_Vote'] = (df_share['B_Index']/(2**(5-1)))*100\n",
                "df_share"
            ],
            "metadata": {
                "azdata_cell_guid": "69e313e5-349a-45cf-8de1-05a110b18cce"
            },
            "outputs": [
                {
                    "output_type": "execute_result",
                    "execution_count": 25,
                    "data": {
                        "text/plain": "    Cat  B_Index  B_PowerShare  B_Critical_Vote\n0  B90%        2          25.0             12.5\n1  B60%        2          25.0             12.5\n2  W90%        0           0.0              0.0\n3  W60%        2          25.0             12.5\n4  N50%        2          25.0             12.5",
                        "text/html": "<div>\n<style scoped>\n    .dataframe tbody tr th:only-of-type {\n        vertical-align: middle;\n    }\n\n    .dataframe tbody tr th {\n        vertical-align: top;\n    }\n\n    .dataframe thead th {\n        text-align: right;\n    }\n</style>\n<table border=\"1\" class=\"dataframe\">\n  <thead>\n    <tr style=\"text-align: right;\">\n      <th></th>\n      <th>Cat</th>\n      <th>B_Index</th>\n      <th>B_PowerShare</th>\n      <th>B_Critical_Vote</th>\n    </tr>\n  </thead>\n  <tbody>\n    <tr>\n      <th>0</th>\n      <td>B90%</td>\n      <td>2</td>\n      <td>25.0</td>\n      <td>12.5</td>\n    </tr>\n    <tr>\n      <th>1</th>\n      <td>B60%</td>\n      <td>2</td>\n      <td>25.0</td>\n      <td>12.5</td>\n    </tr>\n    <tr>\n      <th>2</th>\n      <td>W90%</td>\n      <td>0</td>\n      <td>0.0</td>\n      <td>0.0</td>\n    </tr>\n    <tr>\n      <th>3</th>\n      <td>W60%</td>\n      <td>2</td>\n      <td>25.0</td>\n      <td>12.5</td>\n    </tr>\n    <tr>\n      <th>4</th>\n      <td>N50%</td>\n      <td>2</td>\n      <td>25.0</td>\n      <td>12.5</td>\n    </tr>\n  </tbody>\n</table>\n</div>"
                    },
                    "metadata": {}
                }
            ],
            "execution_count": 25
        }
    ]
}