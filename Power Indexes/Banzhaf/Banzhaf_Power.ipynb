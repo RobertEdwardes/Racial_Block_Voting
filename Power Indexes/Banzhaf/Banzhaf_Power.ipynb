{
 "cells": [
  {
   "cell_type": "code",
   "execution_count": 44,
   "metadata": {},
   "outputs": [],
   "source": [
    "import pandas as pd\n",
    "import os \n",
    "os.chdir(r'F:\\Power Indexes')\n",
    "import itertools\n",
    "County_Fips_7 = ['011','013','023','025','035','041','047','063','087','091','099','101','107','119','125','129','131','085']\n",
    "County_Fips_6 = ['007','065','073','105']\n",
    "CD116_7 = ['07']\n",
    "df_CD_init = pd.read_csv('AL_PL94.csv', dtype={'GEOID':str,'VTD':str,'CD116':str,'COUNTY':str})\n",
    "df_Votes = pd.read_csv('BAF-al_2020.csv',dtype={'GEOID20_left':str,'COUNTYFP20':str})"
   ]
  },
  {
   "cell_type": "code",
   "execution_count": 45,
   "metadata": {},
   "outputs": [],
   "source": [
    "df_CD = df_CD_init[df_CD_init['COUNTY'].isin(County_Fips_7)]\n",
    "\n",
    "df_Votes = df_Votes[['VTDST20','COUNTYFP20','G20PRERTRU','G20PREDBID']]\n",
    "df_Votes = df_Votes.drop_duplicates().reset_index(drop=True)\n",
    "df_Votes = df_Votes.rename(columns={'VTDST20':'VTD','COUNTYFP20':'COUNTY'})\n",
    "\n",
    "df_CD = df_CD[['VTD','COUNTY','P0010001','P0010004']]\n",
    "df_CD = df_CD.groupby(['VTD','COUNTY']).sum()\n",
    "df = df_CD.merge(df_Votes, how='inner',on=['VTD','COUNTY'])\n",
    "df = df.drop_duplicates()\n",
    "df = df.drop(columns=['COUNTY'])\n",
    "df_sum = df.groupby(['VTD']).sum().reset_index()\n",
    "df = df[['VTD']].merge(df_sum, on='VTD')\n",
    "df = df.drop_duplicates()\n",
    "assert len(df.index) != 0\n",
    "assert len(df_Votes.index) != 0"
   ]
  },
  {
   "cell_type": "code",
   "execution_count": 48,
   "metadata": {},
   "outputs": [],
   "source": [
    "df['Black_Percentage'] = df['P0010004']/df['P0010001']\n",
    "df['Group'] = None\n",
    "df = df.reset_index(drop=True)\n",
    "\n",
    "for i ,row in df.iterrows():\n",
    "    if row['Black_Percentage'] >= .9:\n",
    "        df['Group'].iloc[i] = 'B90%'\n",
    "    if row['Black_Percentage'] < .9:\n",
    "        df['Group'].iloc[i] = 'B60%'\n",
    "    if row['Black_Percentage'] < .6:\n",
    "        df['Group'].iloc[i] = 'N50%'\n",
    "    if row['Black_Percentage'] <= .4:\n",
    "        df['Group'].iloc[i] = 'W60%'\n",
    "    if row['Black_Percentage'] <= .1:\n",
    "        df['Group'].iloc[i] = 'W90%'\n",
    "\n",
    "quoat = 0\n",
    "quoat = df[['G20PRERTRU','G20PREDBID']].sum()\n",
    "quoat = (quoat['G20PREDBID'] + quoat['G20PRERTRU'])/2\n",
    "voteGroups = df[['Group','G20PRERTRU']].groupby('Group').sum().reset_index()\n",
    "voteGroups = voteGroups.values.tolist()"
   ]
  },
  {
   "cell_type": "code",
   "execution_count": 51,
   "metadata": {},
   "outputs": [],
   "source": [
    "idx = 0\n",
    "output = {}\n",
    "for i in range(1,len(voteGroups)+1):\n",
    "    for j in itertools.combinations(voteGroups,i):\n",
    "        c = 0\n",
    "        for k in j:\n",
    "            c += k[1]\n",
    "            if c > quoat:\n",
    "                idx += 1\n",
    "                output[idx] = {}\n",
    "                output[idx]['Coliltion'] = j\n",
    "                output[idx]['Total'] = c\n",
    "                break\n",
    "\n",
    "crit_count = {'B90%':0,'B60%':0,'W90%':0,'W60%':0,'N50%':0}\n",
    "for key, value in output.items():\n",
    "    wC = value['Total']\n",
    "    for i in value['Coliltion']:\n",
    "        if wC - i[1] < quoat:\n",
    "            crit_count[i[0]] += 1\n",
    "\n",
    "df_share = pd.DataFrame(list(crit_count.items()),columns = ['Cat','B_Index'])\n",
    "B_IdxSum = df_share['B_Index'].sum()\n",
    "df_share['B_PowerShare'] = (df_share['B_Index']/B_IdxSum) * 100\n",
    "df_share['B_Critical_Vote'] = (df_share['B_Index']/(2**(5-1)))*100\n",
    "df_share"
   ]
  }
 ],
 "metadata": {
  "kernelspec": {
   "display_name": "Python 3",
   "language": "python",
   "name": "python3"
  },
  "language_info": {
   "codemirror_mode": {
    "name": "ipython",
    "version": 3
   },
   "file_extension": ".py",
   "mimetype": "text/x-python",
   "name": "python",
   "nbconvert_exporter": "python",
   "pygments_lexer": "ipython3",
   "version": "3.8.5"
  }
 },
 "nbformat": 4,
 "nbformat_minor": 4
}
