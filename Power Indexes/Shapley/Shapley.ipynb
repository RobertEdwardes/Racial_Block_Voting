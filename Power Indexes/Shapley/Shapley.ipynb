{
    "metadata": {
        "kernelspec": {
            "name": "python3",
            "display_name": "Python 3",
            "language": "python"
        },
        "language_info": {
            "name": "python",
            "version": "3.8.5",
            "mimetype": "text/x-python",
            "codemirror_mode": {
                "name": "ipython",
                "version": 3
            },
            "pygments_lexer": "ipython3",
            "nbconvert_exporter": "python",
            "file_extension": ".py"
        }
    },
    "nbformat_minor": 2,
    "nbformat": 4,
    "cells": [
        {
            "cell_type": "code",
            "source": [
                "import pandas as pd\r\n",
                "import os \r\n",
                "os.chdir(r'./')\r\n",
                "import itertools\r\n",
                "import math\r\n",
                "df_Votes = pd.read_csv('BAF-al_2020.csv',dtype={'GEOID20_left':str,'COUNTYFP20':str})\r\n",
                "\r\n",
                "''' Uncomment read_csv file to generate results \r\n",
                "     comapring current Alabama VRA district to the 2 \r\n",
                "     proposed in Whole County Map '''\r\n",
                "\r\n",
                "df_CD = pd.read_csv('AL_94_CD116_7.csv', dtype={'GEOID':str,'VTD':str,'CD116':str,'COUNTY':str})\r\n",
                "#df_CD = pd.read_csv('AL_94_WC_6.csv', dtype={'GEOID':str,'VTD':str,'CD116':str,'COUNTY':str})\r\n",
                "#df_CD = pd.read_csv('AL_94_WC_7.csv', dtype={'GEOID':str,'VTD':str,'CD116':str,'COUNTY':str})"
            ],
            "metadata": {
                "azdata_cell_guid": "da76a11d-24b7-45c3-a0ef-99e448859e60"
            },
            "outputs": [],
            "execution_count": 20
        },
        {
            "cell_type": "code",
            "source": [
                "df_Votes = df_Votes[['VTDST20','COUNTYFP20','G20PRERTRU','G20PREDBID']]\r\n",
                "df_Votes = df_Votes.drop_duplicates().reset_index(drop=True)\r\n",
                "df_Votes = df_Votes.rename(columns={'VTDST20':'VTD','COUNTYFP20':'COUNTY'})\r\n",
                "\r\n",
                "df_CD = df_CD[['VTD','COUNTY','P0010001','P0010004']]\r\n",
                "df_CD = df_CD.groupby(['VTD','COUNTY']).sum()\r\n",
                "df = df_CD.merge(df_Votes, how='inner',on=['VTD','COUNTY'])\r\n",
                "df = df.drop_duplicates()\r\n",
                "df = df.drop(columns=['COUNTY'])\r\n",
                "df_sum = df.groupby(['VTD']).sum().reset_index()\r\n",
                "df = df[['VTD']].merge(df_sum, on='VTD')\r\n",
                "df = df.drop_duplicates()\r\n",
                "assert len(df.index) != 0\r\n",
                "assert len(df_Votes.index) != 0"
            ],
            "metadata": {
                "azdata_cell_guid": "3fd6157a-7126-42e8-8318-6b19fceadb10"
            },
            "outputs": [],
            "execution_count": 21
        },
        {
            "cell_type": "code",
            "source": [
                "df['Black_Percentage'] = df['P0010004']/df['P0010001']\r\n",
                "df['Group'] = None\r\n",
                "df = df.reset_index(drop=True)\r\n",
                "\r\n",
                "for i ,row in df.iterrows():\r\n",
                "    if row['Black_Percentage'] >= .9:\r\n",
                "        df['Group'].iloc[i] = 'B90%'\r\n",
                "    if row['Black_Percentage'] < .9:\r\n",
                "        df['Group'].iloc[i] = 'B60%'\r\n",
                "    if row['Black_Percentage'] < .6:\r\n",
                "        df['Group'].iloc[i] = 'N50%'\r\n",
                "    if row['Black_Percentage'] <= .4:\r\n",
                "        df['Group'].iloc[i] = 'W60%'\r\n",
                "    if row['Black_Percentage'] <= .1:\r\n",
                "        df['Group'].iloc[i] = 'W90%'\r\n",
                "\r\n",
                "quoat = 0\r\n",
                "quoat = df[['G20PRERTRU','G20PREDBID']].sum()\r\n",
                "quoat = (quoat['G20PREDBID'] + quoat['G20PRERTRU'])/2\r\n",
                "voteGroups = df[['Group','G20PREDBID']].groupby('Group').sum().reset_index()\r\n",
                "voteGroups = voteGroups.values.tolist()"
            ],
            "metadata": {
                "azdata_cell_guid": "d5088f5c-8854-4c47-9274-504426757958"
            },
            "outputs": [
                {
                    "name": "stderr",
                    "text": "c:\\Miniconda\\lib\\site-packages\\pandas\\core\\indexing.py:1637: SettingWithCopyWarning: \nA value is trying to be set on a copy of a slice from a DataFrame\n\nSee the caveats in the documentation: https://pandas.pydata.org/pandas-docs/stable/user_guide/indexing.html#returning-a-view-versus-a-copy\n  self._setitem_single_block(indexer, value, name)\n",
                    "output_type": "stream"
                }
            ],
            "execution_count": 22
        },
        {
            "cell_type": "code",
            "source": [
                "output = {'B90%':0,'B60%':0,'W90%':0,'W60%':0,'N50%':0}\r\n",
                "for i in itertools.permutations(voteGroups):\r\n",
                "    c = 0\r\n",
                "    for j in i:\r\n",
                "        c += j[1]\r\n",
                "        if c > quoat:\r\n",
                "            output[j[0]] += 1\r\n",
                "            break\r\n",
                "df_share = pd.DataFrame(list(output.items()),columns = ['Cat','S_Count'])\r\n",
                "factorial = math.factorial(len(output.keys()))\r\n",
                "df_share['S_Index'] = df_share['S_Count']/factorial"
            ],
            "metadata": {
                "azdata_cell_guid": "664c5be3-0b18-40e4-b645-89eedad0e12a",
                "tags": []
            },
            "outputs": [],
            "execution_count": 27
        },
        {
            "cell_type": "code",
            "source": [
                "df_share"
            ],
            "metadata": {
                "azdata_cell_guid": "e631bc03-7d5b-43bb-8812-4d842955c891"
            },
            "outputs": [
                {
                    "data": {
                        "text/plain": "    Cat  S_Count   S_Index\n0  B90%       50  0.416667\n1  B60%       50  0.416667\n2  W90%        0  0.000000\n3  W60%       10  0.083333\n4  N50%       10  0.083333",
                        "text/html": "<div>\n<style scoped>\n    .dataframe tbody tr th:only-of-type {\n        vertical-align: middle;\n    }\n\n    .dataframe tbody tr th {\n        vertical-align: top;\n    }\n\n    .dataframe thead th {\n        text-align: right;\n    }\n</style>\n<table border=\"1\" class=\"dataframe\">\n  <thead>\n    <tr style=\"text-align: right;\">\n      <th></th>\n      <th>Cat</th>\n      <th>S_Count</th>\n      <th>S_Index</th>\n    </tr>\n  </thead>\n  <tbody>\n    <tr>\n      <th>0</th>\n      <td>B90%</td>\n      <td>50</td>\n      <td>0.416667</td>\n    </tr>\n    <tr>\n      <th>1</th>\n      <td>B60%</td>\n      <td>50</td>\n      <td>0.416667</td>\n    </tr>\n    <tr>\n      <th>2</th>\n      <td>W90%</td>\n      <td>0</td>\n      <td>0.000000</td>\n    </tr>\n    <tr>\n      <th>3</th>\n      <td>W60%</td>\n      <td>10</td>\n      <td>0.083333</td>\n    </tr>\n    <tr>\n      <th>4</th>\n      <td>N50%</td>\n      <td>10</td>\n      <td>0.083333</td>\n    </tr>\n  </tbody>\n</table>\n</div>"
                    },
                    "metadata": {},
                    "execution_count": 28,
                    "output_type": "execute_result"
                }
            ],
            "execution_count": 28
        }
    ]
}