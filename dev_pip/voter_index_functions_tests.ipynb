{
    "metadata": {
        "kernelspec": {
            "name": "python3",
            "display_name": "Python 3",
            "language": "python"
        },
        "language_info": {
            "name": "python",
            "version": "3.8.5",
            "mimetype": "text/x-python",
            "codemirror_mode": {
                "name": "ipython",
                "version": 3
            },
            "pygments_lexer": "ipython3",
            "nbconvert_exporter": "python",
            "file_extension": ".py"
        }
    },
    "nbformat_minor": 2,
    "nbformat": 4,
    "cells": [
        {
            "cell_type": "code",
            "source": [
                "import os \r\n",
                "os.chdir(r'F:\\Racial_Block_Voting\\dev_pip') "
            ],
            "metadata": {
                "azdata_cell_guid": "c5479a71-dab3-4f1f-b538-d7214ca10050",
                "tags": []
            },
            "outputs": [],
            "execution_count": 1
        },
        {
            "cell_type": "code",
            "source": [
                "from Racial_Block_Voting_tools import *\r\n",
                "from vote_index import *\r\n",
                "import pandas as pd"
            ],
            "metadata": {
                "azdata_cell_guid": "c139e750-a8ee-4a64-b18e-adadba090d08"
            },
            "outputs": [],
            "execution_count": 2
        },
        {
            "cell_type": "markdown",
            "source": [
                "### Tests Of vote_index\r\n",
                "#### Create Dataframe from CSVs\r\n",
                "##### power_index(df, TotalPopCol, TargetPopCol, Party1, Party2, vIndex=None, filename=None)"
            ],
            "metadata": {
                "azdata_cell_guid": "14633b5d-44b1-4ca1-9ac6-fc8a946638bf"
            }
        },
        {
            "cell_type": "code",
            "source": [
                "df_Votes = pd.read_csv('F:\\Racial_Block_Voting\\BAF-al_2020.csv',dtype={'GEOID20_left':str,'COUNTYFP20':str})\r\n",
                "\r\n",
                "''' Uncomment read_csv file to generate results \r\n",
                "     comapring current Alabama VRA district to the 2 \r\n",
                "     proposed in Whole County Map '''\r\n",
                "\r\n",
                "df_CD = pd.read_csv('F:\\Racial_Block_Voting\\AL_94_CD116_7.csv', dtype={'GEOID':str,'VTD':str,'CD116':str,'COUNTY':str})\r\n",
                "#df_CD = pd.read_csv('F:\\Racial_Block_Voting\\AL_94_WC_6.csv', dtype={'GEOID':str,'VTD':str,'CD116':str,'COUNTY':str})\r\n",
                "#df_CD = pd.read_csv('F:\\Racial_Block_Voting\\AL_94_WC_7.csv', dtype={'GEOID':str,'VTD':str,'CD116':str,'COUNTY':str})\r\n",
                "df_Votes = df_Votes[['VTDST20','COUNTYFP20','G20PRERTRU','G20PREDBID']]\r\n",
                "df_Votes = df_Votes.drop_duplicates().reset_index(drop=True)\r\n",
                "df_Votes = df_Votes.rename(columns={'VTDST20':'VTD','COUNTYFP20':'COUNTY'})\r\n",
                "\r\n",
                "df_CD = df_CD[['VTD','COUNTY','P0010001','P0010004']]\r\n",
                "df_CD = df_CD.groupby(['VTD','COUNTY']).sum()\r\n",
                "df = df_CD.merge(df_Votes, how='inner',on=['VTD','COUNTY'])\r\n",
                "df = df.drop_duplicates()\r\n",
                "df = df.drop(columns=['COUNTY'])\r\n",
                "df_sum = df.groupby(['VTD']).sum().reset_index()\r\n",
                "df = df[['VTD']].merge(df_sum, on='VTD')\r\n",
                "df = df.drop_duplicates()\r\n",
                "assert len(df.index) != 0\r\n",
                "assert len(df_Votes.index) != 0"
            ],
            "metadata": {
                "azdata_cell_guid": "76fa7199-6331-444a-b912-f74de541b03c"
            },
            "outputs": [],
            "execution_count": 7
        },
        {
            "cell_type": "markdown",
            "source": [
                "#### vIndex = ssi (Shapley–Shubik)"
            ],
            "metadata": {
                "azdata_cell_guid": "fec2cd46-1d8a-494b-b8dd-1c61c555c1a1"
            },
            "attachments": {}
        },
        {
            "cell_type": "code",
            "source": [
                "df.head()"
            ],
            "metadata": {
                "azdata_cell_guid": "12856da2-a619-494b-bdff-1f31428ea78d"
            },
            "outputs": [
                {
                    "data": {
                        "text/plain": "       VTD  P0010001  P0010004  G20PRERTRU  G20PREDBID\n0   000001      6114      1628        2270        1467\n3   000002      2711      1972         291         711\n5   000003      4655      2367         859         243\n8   000004      9617      6460        1067        2457\n11  000005      2886       702        1077         461",
                        "text/html": "<div>\n<style scoped>\n    .dataframe tbody tr th:only-of-type {\n        vertical-align: middle;\n    }\n\n    .dataframe tbody tr th {\n        vertical-align: top;\n    }\n\n    .dataframe thead th {\n        text-align: right;\n    }\n</style>\n<table border=\"1\" class=\"dataframe\">\n  <thead>\n    <tr style=\"text-align: right;\">\n      <th></th>\n      <th>VTD</th>\n      <th>P0010001</th>\n      <th>P0010004</th>\n      <th>G20PRERTRU</th>\n      <th>G20PREDBID</th>\n    </tr>\n  </thead>\n  <tbody>\n    <tr>\n      <th>0</th>\n      <td>000001</td>\n      <td>6114</td>\n      <td>1628</td>\n      <td>2270</td>\n      <td>1467</td>\n    </tr>\n    <tr>\n      <th>3</th>\n      <td>000002</td>\n      <td>2711</td>\n      <td>1972</td>\n      <td>291</td>\n      <td>711</td>\n    </tr>\n    <tr>\n      <th>5</th>\n      <td>000003</td>\n      <td>4655</td>\n      <td>2367</td>\n      <td>859</td>\n      <td>243</td>\n    </tr>\n    <tr>\n      <th>8</th>\n      <td>000004</td>\n      <td>9617</td>\n      <td>6460</td>\n      <td>1067</td>\n      <td>2457</td>\n    </tr>\n    <tr>\n      <th>11</th>\n      <td>000005</td>\n      <td>2886</td>\n      <td>702</td>\n      <td>1077</td>\n      <td>461</td>\n    </tr>\n  </tbody>\n</table>\n</div>"
                    },
                    "metadata": {},
                    "execution_count": 4,
                    "output_type": "execute_result"
                }
            ],
            "execution_count": 4
        },
        {
            "cell_type": "code",
            "source": [
                "power_index(df=df, TotalPopCol='P0010001', TargetPopCol='P0010004', Party1='G20PRERTRU', Party2='G20PREDBID', vIndex='ssi', filename='Test-ssi')\r\n",
                "df_ssi = pd.read_csv('F:\\Racial_Block_Voting\\dev_pip\\Test-ssi-Shapley–Shubik.csv')\r\n",
                "df_ssi.head()"
            ],
            "metadata": {
                "azdata_cell_guid": "e97615ed-281a-47da-ab27-1be5032a0897",
                "tags": []
            },
            "outputs": [
                {
                    "name": "stderr",
                    "text": "c:\\Miniconda\\lib\\site-packages\\pandas\\core\\indexing.py:1637: SettingWithCopyWarning: \nA value is trying to be set on a copy of a slice from a DataFrame\n\nSee the caveats in the documentation: https://pandas.pydata.org/pandas-docs/stable/user_guide/indexing.html#returning-a-view-versus-a-copy\n  self._setitem_single_block(indexer, value, name)\n",
                    "output_type": "stream"
                },
                {
                    "data": {
                        "text/plain": "    Cat  T_Count   T_Index\n0  T90%       50  0.416667\n1  T60%       50  0.416667\n2  O90%        0  0.000000\n3  O60%       10  0.083333\n4  N50%       10  0.083333",
                        "text/html": "<div>\n<style scoped>\n    .dataframe tbody tr th:only-of-type {\n        vertical-align: middle;\n    }\n\n    .dataframe tbody tr th {\n        vertical-align: top;\n    }\n\n    .dataframe thead th {\n        text-align: right;\n    }\n</style>\n<table border=\"1\" class=\"dataframe\">\n  <thead>\n    <tr style=\"text-align: right;\">\n      <th></th>\n      <th>Cat</th>\n      <th>T_Count</th>\n      <th>T_Index</th>\n    </tr>\n  </thead>\n  <tbody>\n    <tr>\n      <th>0</th>\n      <td>T90%</td>\n      <td>50</td>\n      <td>0.416667</td>\n    </tr>\n    <tr>\n      <th>1</th>\n      <td>T60%</td>\n      <td>50</td>\n      <td>0.416667</td>\n    </tr>\n    <tr>\n      <th>2</th>\n      <td>O90%</td>\n      <td>0</td>\n      <td>0.000000</td>\n    </tr>\n    <tr>\n      <th>3</th>\n      <td>O60%</td>\n      <td>10</td>\n      <td>0.083333</td>\n    </tr>\n    <tr>\n      <th>4</th>\n      <td>N50%</td>\n      <td>10</td>\n      <td>0.083333</td>\n    </tr>\n  </tbody>\n</table>\n</div>"
                    },
                    "metadata": {},
                    "execution_count": 8,
                    "output_type": "execute_result"
                }
            ],
            "execution_count": 8
        },
        {
            "cell_type": "markdown",
            "source": [
                "#### vIndex = bpi (Banzhaf Power)"
            ],
            "metadata": {
                "azdata_cell_guid": "62feabaa-3c25-4ee0-bc5f-9bbb86073858"
            }
        },
        {
            "cell_type": "code",
            "source": [
                "power_index(df=df, TotalPopCol='P0010001', TargetPopCol='P0010004', Party1='G20PRERTRU', Party2='G20PREDBID', vIndex='bpi', filename='Test-bpi')\r\n",
                "df_bpi = pd.read_csv('F:\\Racial_Block_Voting\\dev_pip\\Test-bpi-Banzhaf-Power.csv')\r\n",
                "df_bpi.head()"
            ],
            "metadata": {
                "azdata_cell_guid": "166d1632-6fac-4300-950d-a238f7bf39e9"
            },
            "outputs": [
                {
                    "name": "stderr",
                    "text": "c:\\Miniconda\\lib\\site-packages\\pandas\\core\\indexing.py:1637: SettingWithCopyWarning: \nA value is trying to be set on a copy of a slice from a DataFrame\n\nSee the caveats in the documentation: https://pandas.pydata.org/pandas-docs/stable/user_guide/indexing.html#returning-a-view-versus-a-copy\n  self._setitem_single_block(indexer, value, name)\n",
                    "output_type": "stream"
                },
                {
                    "data": {
                        "text/plain": "    Cat  T_Index  T_PowerShare  T_Critical_Vote\n0  T90%        6          37.5             37.5\n1  T60%        6          37.5             37.5\n2  O90%        0           0.0              0.0\n3  O60%        2          12.5             12.5\n4  N50%        2          12.5             12.5",
                        "text/html": "<div>\n<style scoped>\n    .dataframe tbody tr th:only-of-type {\n        vertical-align: middle;\n    }\n\n    .dataframe tbody tr th {\n        vertical-align: top;\n    }\n\n    .dataframe thead th {\n        text-align: right;\n    }\n</style>\n<table border=\"1\" class=\"dataframe\">\n  <thead>\n    <tr style=\"text-align: right;\">\n      <th></th>\n      <th>Cat</th>\n      <th>T_Index</th>\n      <th>T_PowerShare</th>\n      <th>T_Critical_Vote</th>\n    </tr>\n  </thead>\n  <tbody>\n    <tr>\n      <th>0</th>\n      <td>T90%</td>\n      <td>6</td>\n      <td>37.5</td>\n      <td>37.5</td>\n    </tr>\n    <tr>\n      <th>1</th>\n      <td>T60%</td>\n      <td>6</td>\n      <td>37.5</td>\n      <td>37.5</td>\n    </tr>\n    <tr>\n      <th>2</th>\n      <td>O90%</td>\n      <td>0</td>\n      <td>0.0</td>\n      <td>0.0</td>\n    </tr>\n    <tr>\n      <th>3</th>\n      <td>O60%</td>\n      <td>2</td>\n      <td>12.5</td>\n      <td>12.5</td>\n    </tr>\n    <tr>\n      <th>4</th>\n      <td>N50%</td>\n      <td>2</td>\n      <td>12.5</td>\n      <td>12.5</td>\n    </tr>\n  </tbody>\n</table>\n</div>"
                    },
                    "metadata": {},
                    "execution_count": 9,
                    "output_type": "execute_result"
                }
            ],
            "execution_count": 9
        }
    ]
}